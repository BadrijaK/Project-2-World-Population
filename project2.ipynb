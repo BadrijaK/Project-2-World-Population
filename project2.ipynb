{
 "cells": [
  {
   "cell_type": "markdown",
   "id": "8043cfce",
   "metadata": {},
   "source": [
    "# Importing Modules and CSV files"
   ]
  },
  {
   "cell_type": "code",
   "execution_count": 1,
   "id": "ec58f0e9",
   "metadata": {},
   "outputs": [],
   "source": [
    "import pandas as pd\n",
    "from sqlalchemy import create_engine"
   ]
  },
  {
   "cell_type": "code",
   "execution_count": 2,
   "id": "25a54a20",
   "metadata": {},
   "outputs": [],
   "source": [
    "world_population_data=pd.read_csv(\"./Resources/World_Population.csv\")\n",
    "Country_population_data=pd.read_csv(\"./Resources/Country_Population.csv\")"
   ]
  },
  {
   "cell_type": "code",
   "execution_count": 3,
   "id": "719e979b",
   "metadata": {},
   "outputs": [
    {
     "data": {
      "text/html": [
       "<div>\n",
       "<style scoped>\n",
       "    .dataframe tbody tr th:only-of-type {\n",
       "        vertical-align: middle;\n",
       "    }\n",
       "\n",
       "    .dataframe tbody tr th {\n",
       "        vertical-align: top;\n",
       "    }\n",
       "\n",
       "    .dataframe thead th {\n",
       "        text-align: right;\n",
       "    }\n",
       "</style>\n",
       "<table border=\"1\" class=\"dataframe\">\n",
       "  <thead>\n",
       "    <tr style=\"text-align: right;\">\n",
       "      <th></th>\n",
       "      <th>Rank</th>\n",
       "      <th>Country</th>\n",
       "      <th>Region</th>\n",
       "      <th>Population</th>\n",
       "      <th>Percentage</th>\n",
       "      <th>Date</th>\n",
       "    </tr>\n",
       "  </thead>\n",
       "  <tbody>\n",
       "    <tr>\n",
       "      <th>0</th>\n",
       "      <td>1</td>\n",
       "      <td>China</td>\n",
       "      <td>Asia</td>\n",
       "      <td>1411778724</td>\n",
       "      <td>17.80%</td>\n",
       "      <td>2022-11-20</td>\n",
       "    </tr>\n",
       "    <tr>\n",
       "      <th>1</th>\n",
       "      <td>2</td>\n",
       "      <td>India</td>\n",
       "      <td>Asia</td>\n",
       "      <td>1386141732</td>\n",
       "      <td>17.50%</td>\n",
       "      <td>2022-12-21</td>\n",
       "    </tr>\n",
       "    <tr>\n",
       "      <th>2</th>\n",
       "      <td>3</td>\n",
       "      <td>United States</td>\n",
       "      <td>Americas</td>\n",
       "      <td>332960297</td>\n",
       "      <td>4.20%</td>\n",
       "      <td>2022-12-21</td>\n",
       "    </tr>\n",
       "    <tr>\n",
       "      <th>3</th>\n",
       "      <td>4</td>\n",
       "      <td>Indonesia</td>\n",
       "      <td>Asia</td>\n",
       "      <td>271350000</td>\n",
       "      <td>3.43%</td>\n",
       "      <td>2022-12-20</td>\n",
       "    </tr>\n",
       "    <tr>\n",
       "      <th>4</th>\n",
       "      <td>5</td>\n",
       "      <td>Pakistan</td>\n",
       "      <td>Asia</td>\n",
       "      <td>225200000</td>\n",
       "      <td>2.84%</td>\n",
       "      <td>2022-07-21</td>\n",
       "    </tr>\n",
       "    <tr>\n",
       "      <th>...</th>\n",
       "      <td>...</td>\n",
       "      <td>...</td>\n",
       "      <td>...</td>\n",
       "      <td>...</td>\n",
       "      <td>...</td>\n",
       "      <td>...</td>\n",
       "    </tr>\n",
       "    <tr>\n",
       "      <th>236</th>\n",
       "      <td>237</td>\n",
       "      <td>Niue(NewZealand)</td>\n",
       "      <td>Oceania</td>\n",
       "      <td>1549</td>\n",
       "      <td>0%</td>\n",
       "      <td>2022-07-21</td>\n",
       "    </tr>\n",
       "    <tr>\n",
       "      <th>237</th>\n",
       "      <td>238</td>\n",
       "      <td>Tokelau(NewZealand)</td>\n",
       "      <td>Oceania</td>\n",
       "      <td>1501</td>\n",
       "      <td>0%</td>\n",
       "      <td>2022-07-21</td>\n",
       "    </tr>\n",
       "    <tr>\n",
       "      <th>238</th>\n",
       "      <td>239</td>\n",
       "      <td>VaticanCity</td>\n",
       "      <td>Europe</td>\n",
       "      <td>825</td>\n",
       "      <td>0%</td>\n",
       "      <td>2022-02-19</td>\n",
       "    </tr>\n",
       "    <tr>\n",
       "      <th>239</th>\n",
       "      <td>240</td>\n",
       "      <td>Cocos(Keeling)Islands(Australia)</td>\n",
       "      <td>Oceania</td>\n",
       "      <td>573</td>\n",
       "      <td>0%</td>\n",
       "      <td>2022-06-20</td>\n",
       "    </tr>\n",
       "    <tr>\n",
       "      <th>240</th>\n",
       "      <td>241</td>\n",
       "      <td>PitcairnIslands(United Kingdom)</td>\n",
       "      <td>Oceania</td>\n",
       "      <td>40</td>\n",
       "      <td>0%</td>\n",
       "      <td>2022-01-21</td>\n",
       "    </tr>\n",
       "  </tbody>\n",
       "</table>\n",
       "<p>241 rows × 6 columns</p>\n",
       "</div>"
      ],
      "text/plain": [
       "     Rank                           Country    Region  Population Percentage  \\\n",
       "0       1                             China      Asia  1411778724     17.80%   \n",
       "1       2                             India      Asia  1386141732     17.50%   \n",
       "2       3                     United States  Americas   332960297      4.20%   \n",
       "3       4                         Indonesia      Asia   271350000      3.43%   \n",
       "4       5                          Pakistan      Asia   225200000      2.84%   \n",
       "..    ...                               ...       ...         ...        ...   \n",
       "236   237                  Niue(NewZealand)   Oceania        1549         0%   \n",
       "237   238               Tokelau(NewZealand)   Oceania        1501         0%   \n",
       "238   239                       VaticanCity    Europe         825         0%   \n",
       "239   240  Cocos(Keeling)Islands(Australia)   Oceania         573         0%   \n",
       "240   241   PitcairnIslands(United Kingdom)   Oceania          40         0%   \n",
       "\n",
       "           Date  \n",
       "0    2022-11-20  \n",
       "1    2022-12-21  \n",
       "2    2022-12-21  \n",
       "3    2022-12-20  \n",
       "4    2022-07-21  \n",
       "..          ...  \n",
       "236  2022-07-21  \n",
       "237  2022-07-21  \n",
       "238  2022-02-19  \n",
       "239  2022-06-20  \n",
       "240  2022-01-21  \n",
       "\n",
       "[241 rows x 6 columns]"
      ]
     },
     "execution_count": 3,
     "metadata": {},
     "output_type": "execute_result"
    }
   ],
   "source": [
    "world_population_data"
   ]
  },
  {
   "cell_type": "code",
   "execution_count": 4,
   "id": "b4726bae",
   "metadata": {},
   "outputs": [
    {
     "data": {
      "text/html": [
       "<div>\n",
       "<style scoped>\n",
       "    .dataframe tbody tr th:only-of-type {\n",
       "        vertical-align: middle;\n",
       "    }\n",
       "\n",
       "    .dataframe tbody tr th {\n",
       "        vertical-align: top;\n",
       "    }\n",
       "\n",
       "    .dataframe thead th {\n",
       "        text-align: right;\n",
       "    }\n",
       "</style>\n",
       "<table border=\"1\" class=\"dataframe\">\n",
       "  <thead>\n",
       "    <tr style=\"text-align: right;\">\n",
       "      <th></th>\n",
       "      <th>Country</th>\n",
       "      <th>Population (2020)</th>\n",
       "      <th>Land Area (Km²)</th>\n",
       "      <th>Density (P/Km²)</th>\n",
       "    </tr>\n",
       "  </thead>\n",
       "  <tbody>\n",
       "    <tr>\n",
       "      <th>0</th>\n",
       "      <td>Afghanistan</td>\n",
       "      <td>38,041,750</td>\n",
       "      <td>652,230</td>\n",
       "      <td>56.94</td>\n",
       "    </tr>\n",
       "    <tr>\n",
       "      <th>1</th>\n",
       "      <td>Albania</td>\n",
       "      <td>2,854,190</td>\n",
       "      <td>28,748</td>\n",
       "      <td>104.61</td>\n",
       "    </tr>\n",
       "    <tr>\n",
       "      <th>2</th>\n",
       "      <td>Algeria</td>\n",
       "      <td>43,053,050</td>\n",
       "      <td>2,381,740</td>\n",
       "      <td>17.73</td>\n",
       "    </tr>\n",
       "    <tr>\n",
       "      <th>3</th>\n",
       "      <td>Andorra</td>\n",
       "      <td>77,140</td>\n",
       "      <td>468</td>\n",
       "      <td>163.84</td>\n",
       "    </tr>\n",
       "    <tr>\n",
       "      <th>4</th>\n",
       "      <td>Angola</td>\n",
       "      <td>31,825,290</td>\n",
       "      <td>1,246,700</td>\n",
       "      <td>24.71</td>\n",
       "    </tr>\n",
       "    <tr>\n",
       "      <th>...</th>\n",
       "      <td>...</td>\n",
       "      <td>...</td>\n",
       "      <td>...</td>\n",
       "      <td>...</td>\n",
       "    </tr>\n",
       "    <tr>\n",
       "      <th>190</th>\n",
       "      <td>Venezuela</td>\n",
       "      <td>28,515,830</td>\n",
       "      <td>912,050</td>\n",
       "      <td>32.73</td>\n",
       "    </tr>\n",
       "    <tr>\n",
       "      <th>191</th>\n",
       "      <td>Vietnam</td>\n",
       "      <td>96,462,110</td>\n",
       "      <td>331,210</td>\n",
       "      <td>308.13</td>\n",
       "    </tr>\n",
       "    <tr>\n",
       "      <th>192</th>\n",
       "      <td>Yemen</td>\n",
       "      <td>29,161,920</td>\n",
       "      <td>527,968</td>\n",
       "      <td>53.98</td>\n",
       "    </tr>\n",
       "    <tr>\n",
       "      <th>193</th>\n",
       "      <td>Zambia</td>\n",
       "      <td>17,861,030</td>\n",
       "      <td>752,618</td>\n",
       "      <td>23.34</td>\n",
       "    </tr>\n",
       "    <tr>\n",
       "      <th>194</th>\n",
       "      <td>Zimbabwe</td>\n",
       "      <td>14,645,470</td>\n",
       "      <td>390,757</td>\n",
       "      <td>37.32</td>\n",
       "    </tr>\n",
       "  </tbody>\n",
       "</table>\n",
       "<p>195 rows × 4 columns</p>\n",
       "</div>"
      ],
      "text/plain": [
       "         Country Population (2020) Land Area (Km²) Density (P/Km²)\n",
       "0    Afghanistan        38,041,750         652,230           56.94\n",
       "1        Albania         2,854,190          28,748          104.61\n",
       "2        Algeria        43,053,050       2,381,740           17.73\n",
       "3        Andorra            77,140             468          163.84\n",
       "4         Angola        31,825,290       1,246,700           24.71\n",
       "..           ...               ...             ...             ...\n",
       "190    Venezuela        28,515,830         912,050           32.73\n",
       "191      Vietnam        96,462,110         331,210          308.13\n",
       "192        Yemen        29,161,920         527,968           53.98\n",
       "193       Zambia        17,861,030         752,618           23.34\n",
       "194     Zimbabwe        14,645,470         390,757           37.32\n",
       "\n",
       "[195 rows x 4 columns]"
      ]
     },
     "execution_count": 4,
     "metadata": {},
     "output_type": "execute_result"
    }
   ],
   "source": [
    "Country_population_data"
   ]
  },
  {
   "cell_type": "markdown",
   "id": "c0e4799c",
   "metadata": {},
   "source": [
    "# Data Cleaning"
   ]
  },
  {
   "cell_type": "code",
   "execution_count": 5,
   "id": "8b92fe76",
   "metadata": {},
   "outputs": [
    {
     "name": "stdout",
     "output_type": "stream",
     "text": [
      "<class 'pandas.core.frame.DataFrame'>\n",
      "RangeIndex: 195 entries, 0 to 194\n",
      "Data columns (total 4 columns):\n",
      " #   Column             Non-Null Count  Dtype \n",
      "---  ------             --------------  ----- \n",
      " 0   Country            195 non-null    object\n",
      " 1   Population (2020)  195 non-null    object\n",
      " 2   Land Area (Km²)    195 non-null    object\n",
      " 3   Density (P/Km²)    195 non-null    object\n",
      "dtypes: object(4)\n",
      "memory usage: 6.2+ KB\n"
     ]
    }
   ],
   "source": [
    "Country_population_data.info()"
   ]
  },
  {
   "cell_type": "code",
   "execution_count": 6,
   "id": "9f506ae2",
   "metadata": {},
   "outputs": [
    {
     "name": "stdout",
     "output_type": "stream",
     "text": [
      "<class 'pandas.core.frame.DataFrame'>\n",
      "RangeIndex: 241 entries, 0 to 240\n",
      "Data columns (total 6 columns):\n",
      " #   Column      Non-Null Count  Dtype \n",
      "---  ------      --------------  ----- \n",
      " 0   Rank        241 non-null    int64 \n",
      " 1   Country     241 non-null    object\n",
      " 2   Region      241 non-null    object\n",
      " 3   Population  241 non-null    int64 \n",
      " 4   Percentage  241 non-null    object\n",
      " 5   Date        241 non-null    object\n",
      "dtypes: int64(2), object(4)\n",
      "memory usage: 11.4+ KB\n"
     ]
    }
   ],
   "source": [
    "world_population_data.info()"
   ]
  },
  {
   "cell_type": "code",
   "execution_count": 7,
   "id": "5fae539e",
   "metadata": {},
   "outputs": [],
   "source": [
    "world_population_data.drop(\"Rank\",inplace=True,axis=1)\n"
   ]
  },
  {
   "cell_type": "code",
   "execution_count": 8,
   "id": "3fbb54b9",
   "metadata": {},
   "outputs": [],
   "source": [
    "Country_population_data.drop(\"Population (2020)\",inplace=True,axis=1)\n"
   ]
  },
  {
   "cell_type": "markdown",
   "id": "96c58a74",
   "metadata": {},
   "source": [
    "# Create Database Connection"
   ]
  },
  {
   "cell_type": "code",
   "execution_count": 32,
   "id": "4701fa79",
   "metadata": {},
   "outputs": [],
   "source": [
    "protocol=\"postgresql\"\n",
    "username=\"postgres\"\n",
    "password=\"#Kazek220\"\n",
    "host=\"localhost\"\n",
    "port=5432\n",
    "database_name=\"\"\n",
    "connection_string=f\"{protocol}://{username}:{password}@{host}:{port}/{database_name}\""
   ]
  },
  {
   "cell_type": "code",
   "execution_count": 33,
   "id": "dfe8d217",
   "metadata": {},
   "outputs": [
    {
     "name": "stderr",
     "output_type": "stream",
     "text": [
      "C:\\Users\\kazek\\AppData\\Local\\Temp\\ipykernel_29196\\845267981.py:3: SADeprecationWarning: The Engine.table_names() method is deprecated and will be removed in a future release.  Please refer to Inspector.get_table_names(). (deprecated since: 1.4)\n",
      "  engine.table_names()\n"
     ]
    },
    {
     "data": {
      "text/plain": [
       "[]"
      ]
     },
     "execution_count": 33,
     "metadata": {},
     "output_type": "execute_result"
    }
   ],
   "source": [
    "# Confirm tables\n",
    "engine=create_engine(connection_string)\n",
    "engine.table_names()"
   ]
  },
  {
   "cell_type": "code",
   "execution_count": null,
   "id": "3a48f8bd",
   "metadata": {},
   "outputs": [],
   "source": []
  }
 ],
 "metadata": {
  "kernelspec": {
   "display_name": "Python 3 (ipykernel)",
   "language": "python",
   "name": "python3"
  },
  "language_info": {
   "codemirror_mode": {
    "name": "ipython",
    "version": 3
   },
   "file_extension": ".py",
   "mimetype": "text/x-python",
   "name": "python",
   "nbconvert_exporter": "python",
   "pygments_lexer": "ipython3",
   "version": "3.9.12"
  }
 },
 "nbformat": 4,
 "nbformat_minor": 5
}
